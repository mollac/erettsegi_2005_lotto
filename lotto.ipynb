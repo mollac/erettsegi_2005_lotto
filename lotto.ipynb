{
  "cells": [
    {
      "metadata": {
        "collapsed": true
      },
      "cell_type": "markdown",
      "source": "## Lottó ##\nMagyarországon 1957 óta lehet ötös lottót játszani. A játék lényege a következő: a lottószel-\nvényeken 90 szám közül 5 számot kell a fogadónak megjelölnie. Ha ezek közül 2 vagy annál\ntöbb megegyezik a kisorsolt számokkal, akkor nyer. Az évek során egyre többen hódoltak\nennek a szerencsejátéknak és a nyeremények is egyre nőttek.\nAdottak a lottosz.dat szöveges állományban a 2003. év 51 hetének ötös lottó számai. Az\nelső sorában az első héten húzott számok vannak, szóközzel elválasztva, a második sorban a\nmásodik hét lottószámai vannak stb.\n```Például:\n37 42 44 61 62\n18 42 54 83 89\n...\n9 20 21 59 68\n```\nA lottószámok minden sorban emelkedő számsorrendben szerepelnek.\nAz állományból kimaradtak az 52. hét lottószámai. Ezek a következők voltak: 89 24 34 11 64.\nKészítsen programot a következő feladatok megoldására!\n1. Kérje be a felhasználótól az 52. hét megadott lottószámait!\n2. A program rendezze a bekért lottószámokat emelkedő sorrendbe! A rendezett számokat\nírja ki a képernyőre!\n3. Kérjen be a felhasználótól egy egész számot 1-51 között! A bekért adatot nem kell ellen-\nőrizni!\n4. Írja ki a képernyőre a bekért számnak megfelelő sorszámú hét lottószámait, a\nlottosz.dat állományban lévő adatok alapján!\n5. A lottosz.dat állományból beolvasott adatok alapján döntse el, hogy volt-e olyan\nszám, amit egyszer sem húztak ki az 51 hét alatt! A döntés eredményét (Van/Nincs) írja ki\na képernyőre!\n6. A lottosz.dat állományban lévő adatok alapján állapítsa meg, hogy hányszor volt pá-\nratlan szám a kihúzott lottószámok között! Az eredményt a képernyőre írja ki!\n7. Fűzze hozzá a lottosz.dat állományból beolvasott lottószámok után a felhasználótól\nbekért, és rendezett 52. hét lottószámait, majd írja ki az összes lottószámot a lotto52.ki\nszöveges fájlba! A fájlban egy sorba egy hét lottószámai kerüljenek, szóközzel elválasztva\negymástól!\n8. Határozza meg a lotto52.ki állomány adatai alapján, hogy az egyes számokat hányszor\nhúzták ki 2003-ban. Az eredményt írja ki a képernyőre a következő formában: az első sor\nelső eleme az a szám legyen ahányszor az egyest kihúzták! Az első sor második eleme az\naz érték legyen, ahányszor a kettes számot kihúzták stb.! (Annyit biztosan tudunk az érté-\nkekről, hogy mindegyikük egyjegyű.)\ngyakorlati vizsga 0511\n10 / 12\n2005. május 19.Azonosító jel:\nInformatika — emelt szint\nPélda egy lehetséges eredmény elrendezésére (6 sorban, soronként 15 érték).\n```\n413454233223255\n102404222253323\n251241624241162\n234162411254433\n112563504112261\n351142565133523\n```\n9. Adja meg, hogy az 1-90 közötti prímszámokból melyiket nem húzták ki egyszer sem az\nelmúlt évben. A feladat megoldása során az itt megadott prímszámokat felhasználhatja\nvagy előállíthatja! (2, 3, 5, 7, 11, 13, 17, 19, 23, 29, 31, 37, 41, 43, 47, 53, 59, 61, 67, 71,\n73, 79, 83, 89.)"
    },
    {
      "metadata": {
        "trusted": true
      },
      "cell_type": "code",
      "source": "# coding=utf-8\ndef prim(a):\n    return all(a % i for i in range(2, int(a ** 0.5) + 1))\n\nhuzasok = {}\nwith open('lottosz.dat') as f:\n    for i, l in enumerate(f):\n        huzasok[i + 1] = list(map(int, l.split()))\n\nszamok = [v[i] for v in huzasok.values() for i in range(5)]",
      "execution_count": 1,
      "outputs": []
    },
    {
      "metadata": {
        "trusted": true
      },
      "cell_type": "code",
      "source": "het_52 = sorted(list(map(int, input('52. hét számai (szóközzel elválasztva): ').split())))\nprint(het_52)\n\nprint(huzasok[int(input('Melyik hét számaira kiváncsi: '))])\n\nprint('Van ki nem húzott szám!') if len(set(szamok)) < 90 else print('Nincs ki nem húzott szám!')\n\nprint(f'Páratlan számot {len([szam for szam in szamok if szam % 2 != 0])}-szor húztak ki.')",
      "execution_count": 2,
      "outputs": [
        {
          "output_type": "stream",
          "name": "stdout",
          "text": "52. hét számai (szóközzel elválasztva): 2 3 4 5 6\n[2, 3, 4, 5, 6]\nMelyik hét számaira kiváncsi: 12\n[23, 31, 42, 73, 85]\nVan ki nem húzott szám!\nPáratlan számot 126-szor húztak ki.\n"
        }
      ]
    },
    {
      "metadata": {
        "trusted": true
      },
      "cell_type": "code",
      "source": "huzasok[52] = het_52\nszamok += het_52\n\nwith open('lotto52.ki', 'w') as f:\n    for het in huzasok.values():\n        f.write(' '.join(map(str, het)) + '\\n')\n\nszam_stat = [szamok.count(i) for i in range(1, 91)]\nprint('\\nSzámok gyakorisága:')\nfor i in range(1, 91):\n    print(szam_stat[i - 1], end=' ')\n    if i % 15 == 0:\n        print('\\n')\n\nprint('Ki nem húzott prímszámok: ', set(i for i in range(2, 91) if prim(i)) - set(szamok))",
      "execution_count": 3,
      "outputs": [
        {
          "output_type": "stream",
          "text": "\nSzámok gyakorisága:\n4 3 3 5 3 3 6 1 1 2 0 5 2 1 1 \n\n1 3 5 0 5 5 2 6 5 5 1 0 6 4 3 \n\n3 3 5 3 3 1 4 2 2 4 2 4 1 2 3 \n\n4 2 1 2 3 2 2 2 4 4 5 1 3 5 5 \n\n5 2 0 1 2 4 4 3 1 3 6 1 5 6 2 \n\n4 3 2 2 3 1 1 4 1 3 3 2 1 4 3 \n\nKi nem húzott prímszámok:  {19, 11}\n",
          "name": "stdout"
        }
      ]
    }
  ],
  "metadata": {
    "kernelspec": {
      "name": "python36",
      "display_name": "Python 3.6",
      "language": "python"
    },
    "language_info": {
      "mimetype": "text/x-python",
      "nbconvert_exporter": "python",
      "name": "python",
      "pygments_lexer": "ipython3",
      "version": "3.6.6",
      "file_extension": ".py",
      "codemirror_mode": {
        "version": 3,
        "name": "ipython"
      }
    }
  },
  "nbformat": 4,
  "nbformat_minor": 2
}